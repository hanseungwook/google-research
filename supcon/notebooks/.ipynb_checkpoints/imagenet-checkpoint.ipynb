{
 "cells": [
  {
   "cell_type": "code",
   "execution_count": 1,
   "id": "e914ba3b-8642-40b0-9037-d5b28867af75",
   "metadata": {},
   "outputs": [],
   "source": [
    "import tensorflow as tf\n",
    "import tensorflow_datasets as tfds\n",
    "\n",
    "from tensorflow.keras.applications.resnet50 import ResNet50\n",
    "from tensorflow.keras.preprocessing import image\n",
    "from tensorflow.keras.applications.resnet50 import preprocess_input, decode_predictions\n",
    "import numpy as np"
   ]
  },
  {
   "cell_type": "code",
   "execution_count": null,
   "id": "a276f19f-3ded-48ac-8f75-10108db7fc89",
   "metadata": {},
   "outputs": [],
   "source": [
    "ds = tfds.load('imagenet', split='train', data_dir='/gpfs/u/locker/200/CADS/datasets/ImageNet', shuffle_files=False)\n",
    "\n",
    "\n",
    "tfds.load(\n",
    "    name: str,\n",
    "    *,\n",
    "    split: Optional[Tree[splits_lib.SplitArg]] = None,\n",
    "    data_dir: Optional[str] = None,\n",
    "    batch_size: tfds.typing.Dim = None,\n",
    "    shuffle_files: bool = False,\n",
    "    download: bool = True,\n",
    "    as_supervised: bool = False,\n",
    "    decoders: Optional[TreeDict[decode.partial_decode.DecoderArg]] = None,\n",
    "    read_config: Optional[tfds.ReadConfig] = None,\n",
    "    with_info: bool = False,\n",
    "    builder_kwargs: Optional[Dict[str, Any]] = None,\n",
    "    download_and_prepare_kwargs: Optional[Dict[str, Any]] = None,\n",
    "    as_dataset_kwargs: Optional[Dict[str, Any]] = None,\n",
    "    try_gcs: bool = False\n",
    ")"
   ]
  },
  {
   "cell_type": "code",
   "execution_count": 8,
   "id": "a06cb79f-4d65-4b35-9e06-1eb944331427",
   "metadata": {},
   "outputs": [
    {
     "name": "stderr",
     "output_type": "stream",
     "text": [
      "WARNING:absl:Warning: Setting shuffle_files=True because split=TRAIN and shuffle_files=None. This behavior will be deprecated on 2019-08-06, at which point shuffle_files=False will be the default for all splits.\n"
     ]
    }
   ],
   "source": [
    "ds = tfds.load('mnist', split='train')"
   ]
  },
  {
   "cell_type": "code",
   "execution_count": null,
   "id": "8ac693af-ca8f-4b33-8328-400fdcb301f8",
   "metadata": {},
   "outputs": [],
   "source": [
    "model = ResNet50(weights='imagenet')\n",
    "\n",
    "def resize_with_crop(image, label):\n",
    "    i = image\n",
    "    i = tf.cast(i, tf.float32)\n",
    "    i = tf.image.resize_with_crop_or_pad(i, 224, 224)\n",
    "    i = preprocess_input(i)\n",
    "    # i = tf.expand_dims(i, axis=0)\n",
    "    # preds = model.predict(i, steps=1)\n",
    "    # preds = decode_predictions(preds, top=3)[0]\n",
    "    # print(preds)\n",
    "    return i, label\n",
    "    # return (i, label, preds)\n",
    "\n",
    "# ds = ds.map(resize_with_crop)\n",
    "# ds_mapped = ds.map(lambda row: resize_with_crop(row['image'], row['label']))\n",
    "\n",
    "for ex in ds:\n",
    "    i = ex['image']\n",
    "    i = tf.cast(i, tf.float32)\n",
    "    # i = tf.image.resize_with_crop_or_pad(i, 224, 224)\n",
    "    i = preprocess_input(i)\n",
    "    i = np.expand_dims(i, axis=0)\n",
    "    \n",
    "    print(ex)\n",
    "    preds = model.predict(x)\n",
    "#     # # decode the results into a list of tuples (class, description, probability)\n",
    "#     # # (one such list for each sample in the batch)\n",
    "    print('Predicted:', decode_predictions(preds, top=3)[0])\n",
    "    break\n",
    "\n",
    "# for ex in ds:\n",
    "#     x = ex['image']\n",
    "#     y = ex['label']\n",
    "#     # img = image.load_img(img_path, target_size=(224, 224))\n",
    "#     # x = image.img_to_array(img)\n",
    "#     x = tf.cast(x, tf.float32)\n",
    "#     x = tf.image.resize_with_crop_or_pad(x, 224, 224)\n",
    "#     x = preprocess_input(x)\n",
    "#     x = np.expand_dims(x, axis=0)\n",
    "#     preds = model.predict(x)\n",
    "#     # # decode the results into a list of tuples (class, description, probability)\n",
    "#     # # (one such list for each sample in the batch)\n",
    "#     print('Predicted:', decode_predictions(preds, top=3)[0])\n",
    "#     break"
   ]
  },
  {
   "cell_type": "code",
   "execution_count": null,
   "id": "68e6d3bb-bf5a-4258-b931-f4e0a9fb82bd",
   "metadata": {},
   "outputs": [],
   "source": []
  }
 ],
 "metadata": {
  "kernelspec": {
   "display_name": "tf",
   "language": "python",
   "name": "tf"
  },
  "language_info": {
   "codemirror_mode": {
    "name": "ipython",
    "version": 3
   },
   "file_extension": ".py",
   "mimetype": "text/x-python",
   "name": "python",
   "nbconvert_exporter": "python",
   "pygments_lexer": "ipython3",
   "version": "3.7.7"
  }
 },
 "nbformat": 4,
 "nbformat_minor": 5
}
