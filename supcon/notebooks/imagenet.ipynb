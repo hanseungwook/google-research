{
 "cells": [
  {
   "cell_type": "code",
   "execution_count": 1,
   "id": "e914ba3b-8642-40b0-9037-d5b28867af75",
   "metadata": {},
   "outputs": [],
   "source": [
    "import tensorflow as tf\n",
    "import tensorflow_datasets as tfds\n",
    "\n",
    "from tensorflow.keras.applications.resnet50 import ResNet50\n",
    "from tensorflow.keras.preprocessing import image\n",
    "from tensorflow.keras.applications.resnet50 import preprocess_input, decode_predictions\n",
    "import numpy as np"
   ]
  },
  {
   "cell_type": "code",
   "execution_count": null,
   "id": "a276f19f-3ded-48ac-8f75-10108db7fc89",
   "metadata": {},
   "outputs": [],
   "source": [
    "ds = tfds.load('imagenet', split='train', data_dir='/gpfs/u/locker/200/CADS/datasets/ImageNet', shuffle_files=False)"
   ]
  },
  {
   "cell_type": "code",
   "execution_count": 41,
   "id": "a06cb79f-4d65-4b35-9e06-1eb944331427",
   "metadata": {},
   "outputs": [],
   "source": [
    "ds, info = tfds.load('mnist', split='train', shuffle_files=False, with_info=True)"
   ]
  },
  {
   "cell_type": "code",
   "execution_count": 42,
   "id": "56723db8-afd1-4f25-81cf-c1c8e53245e7",
   "metadata": {},
   "outputs": [
    {
     "data": {
      "text/plain": [
       "tfds.core.DatasetInfo(\n",
       "    name='mnist',\n",
       "    version=1.0.0,\n",
       "    description='The MNIST database of handwritten digits.',\n",
       "    urls=['https://storage.googleapis.com/cvdf-datasets/mnist/'],\n",
       "    features=FeaturesDict({\n",
       "        'image': Image(shape=(28, 28, 1), dtype=tf.uint8),\n",
       "        'label': ClassLabel(shape=(), dtype=tf.int64, num_classes=10),\n",
       "    }),\n",
       "    total_num_examples=70000,\n",
       "    splits={\n",
       "        'test': 10000,\n",
       "        'train': 60000,\n",
       "    },\n",
       "    supervised_keys=('image', 'label'),\n",
       "    citation=\"\"\"@article{lecun2010mnist,\n",
       "      title={MNIST handwritten digit database},\n",
       "      author={LeCun, Yann and Cortes, Corinna and Burges, CJ},\n",
       "      journal={ATT Labs [Online]. Available: http://yann. lecun. com/exdb/mnist},\n",
       "      volume={2},\n",
       "      year={2010}\n",
       "    }\"\"\",\n",
       "    redistribution_info=,\n",
       ")"
      ]
     },
     "execution_count": 42,
     "metadata": {},
     "output_type": "execute_result"
    }
   ],
   "source": [
    "info"
   ]
  },
  {
   "cell_type": "code",
   "execution_count": 33,
   "id": "8ac693af-ca8f-4b33-8328-400fdcb301f8",
   "metadata": {},
   "outputs": [
    {
     "name": "stdout",
     "output_type": "stream",
     "text": [
      "Predicted: [('n03832673', 'notebook', 0.43391192), ('n03584254', 'iPod', 0.08753386), ('n03291819', 'envelope', 0.039234616)]\n"
     ]
    }
   ],
   "source": [
    "model = ResNet50(weights='imagenet')\n",
    "\n",
    "def resize_with_crop(image, label):\n",
    "    i = image\n",
    "    i = tf.cast(i, tf.float32)\n",
    "    i = tf.image.resize_with_crop_or_pad(i, 224, 224)\n",
    "    i = preprocess_input(i)\n",
    "    # i = tf.expand_dims(i, axis=0)\n",
    "    # preds = model.predict(i, steps=1)\n",
    "    # preds = decode_predictions(preds, top=3)[0]\n",
    "    # print(preds)\n",
    "    return i, label\n",
    "    # return (i, label, preds)\n",
    "\n",
    "# ds = ds.map(resize_with_crop)\n",
    "# ds_mapped = ds.map(lambda row: resize_with_crop(row['image'], row['label']))\n",
    "\n",
    "for ex in ds:\n",
    "    i = ex['image']\n",
    "    i = tf.cast(i, tf.float32)\n",
    "    # i = tf.repeat(i, [1,1,3])\n",
    "    i = tf.image.resize_with_crop_or_pad(i, 224, 224)\n",
    "    # i = preprocess_input(i)\n",
    "    i = np.repeat(i, 3, axis=-1)\n",
    "    i = np.expand_dims(i, axis=0)\n",
    "    \n",
    "    ex['hi'] = 'bye'\n",
    "    preds = model.predict(i)\n",
    "    print('Predicted:', decode_predictions(preds, top=3)[0])\n",
    "    break"
   ]
  },
  {
   "cell_type": "code",
   "execution_count": null,
   "id": "9d30b23c-5eda-4a99-90e4-7fd35961f2a9",
   "metadata": {},
   "outputs": [],
   "source": [
    "ds1 = "
   ]
  },
  {
   "cell_type": "code",
   "execution_count": 36,
   "id": "68e6d3bb-bf5a-4258-b931-f4e0a9fb82bd",
   "metadata": {},
   "outputs": [],
   "source": [
    "t1 = ds.take(0)"
   ]
  },
  {
   "cell_type": "code",
   "execution_count": null,
   "id": "832c287f-ca8e-4c09-aa9c-b09534fa0075",
   "metadata": {},
   "outputs": [],
   "source": []
  }
 ],
 "metadata": {
  "kernelspec": {
   "display_name": "tf",
   "language": "python",
   "name": "tf"
  },
  "language_info": {
   "codemirror_mode": {
    "name": "ipython",
    "version": 3
   },
   "file_extension": ".py",
   "mimetype": "text/x-python",
   "name": "python",
   "nbconvert_exporter": "python",
   "pygments_lexer": "ipython3",
   "version": "3.7.7"
  }
 },
 "nbformat": 4,
 "nbformat_minor": 5
}
